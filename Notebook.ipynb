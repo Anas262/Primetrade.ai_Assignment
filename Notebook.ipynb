{
 "cells": [
  {
   "cell_type": "markdown",
   "metadata": {},
   "source": [
    "#### Problem Statement / Objective\n",
    "\n",
    "You need to analyze historical trade data from various Binance accounts over 90 days and evaluate their performance based on multiple financial metrics. The goal is to rank the accounts based on these metrics and identify the top 20 best-performing accounts.\n",
    "\n",
    "Key Tasks:\n",
    "\n",
    "1. Data Cleaning & Exploration:\n",
    "\n",
    "- Load and inspect the dataset.\n",
    "- Handle missing or inconsistent values.\n",
    "- Understand the trade structure (e.g., Port_ID, timestamp, side, price, quantity, etc.).\n",
    "\n",
    "2. Feature Engineering & Metrics Calculation:\n",
    "\n",
    "Calculate financial performance metrics for each account, including:\n",
    "\n",
    "- ROI (Return on Investment)\n",
    "- PnL (Profit and Loss)\n",
    "- Sharpe Ratio (Risk-adjusted returns)\n",
    "- MDD (Maximum Drawdown) (Biggest loss from peak)\n",
    "- Win Rate (% of profitable trades)\n",
    "- Win Positions (Number of profitable trades)\n",
    "- Total Positions (Total number of trades)\n",
    "\n",
    "3. Ranking Algorithm:\n",
    "\n",
    "- Develop a scoring system based on the calculated metrics.\n",
    "- Assign weights to different metrics to determine overall ranking.\n",
    "- Identify the top 20 accounts based on performance.\n",
    "\n",
    "4. Documentation & Report:\n",
    "\n",
    "- Explain methodology, assumptions, and findings in a structured report.\n",
    "- Provide a final ranked list of the top 20 accounts.\n"
   ]
  },
  {
   "cell_type": "code",
   "execution_count": 46,
   "metadata": {},
   "outputs": [],
   "source": [
    "import pandas as pd\n",
    "import numpy as np\n",
    "import matplotlib.pyplot as plt\n",
    "import seaborn as sns"
   ]
  },
  {
   "cell_type": "markdown",
   "metadata": {},
   "source": [
    "#### 1. Load and Preprocess Data\n"
   ]
  },
  {
   "cell_type": "code",
   "execution_count": 47,
   "metadata": {},
   "outputs": [],
   "source": [
    "# Assuming the data is in a CSV with Port_ID and Trade_History columns\n",
    "df = pd.read_csv(\"D:\\\\Assignment\\\\Assinment\\\\TRADES_CopyTr_90D_ROI.csv\")"
   ]
  },
  {
   "cell_type": "code",
   "execution_count": 48,
   "metadata": {},
   "outputs": [],
   "source": [
    "import ast\n",
    "\n",
    "\n",
    "# Function to safely parse JSON-like strings\n",
    "def safe_json_loads(x):\n",
    "    try:\n",
    "        if pd.isna(x) or x.strip() == \"\":\n",
    "            return None  # Handle empty values\n",
    "        return eval(x)  # Convert string to a Python list safely\n",
    "    except Exception as e:\n",
    "        print(f\"Error parsing JSON: {e}\")\n",
    "        return None  # Handle errors"
   ]
  },
  {
   "cell_type": "code",
   "execution_count": 49,
   "metadata": {},
   "outputs": [],
   "source": [
    "# Parse JSON column\n",
    "df[\"Trade_History\"] = df[\"Trade_History\"].apply(safe_json_loads)"
   ]
  },
  {
   "cell_type": "code",
   "execution_count": 50,
   "metadata": {},
   "outputs": [],
   "source": [
    "# Drop rows with missing or invalid Trade_History\n",
    "df = df.dropna(subset=[\"Trade_History\"])"
   ]
  },
  {
   "cell_type": "code",
   "execution_count": 51,
   "metadata": {},
   "outputs": [
    {
     "data": {
      "text/html": [
       "<div>\n",
       "<style scoped>\n",
       "    .dataframe tbody tr th:only-of-type {\n",
       "        vertical-align: middle;\n",
       "    }\n",
       "\n",
       "    .dataframe tbody tr th {\n",
       "        vertical-align: top;\n",
       "    }\n",
       "\n",
       "    .dataframe thead th {\n",
       "        text-align: right;\n",
       "    }\n",
       "</style>\n",
       "<table border=\"1\" class=\"dataframe\">\n",
       "  <thead>\n",
       "    <tr style=\"text-align: right;\">\n",
       "      <th></th>\n",
       "      <th>Port_IDs</th>\n",
       "      <th>Trade_History</th>\n",
       "    </tr>\n",
       "  </thead>\n",
       "  <tbody>\n",
       "    <tr>\n",
       "      <th>0</th>\n",
       "      <td>3925368433214965504</td>\n",
       "      <td>[{'time': 1718899656000, 'symbol': 'SOLUSDT', ...</td>\n",
       "    </tr>\n",
       "    <tr>\n",
       "      <th>1</th>\n",
       "      <td>4002413037164645377</td>\n",
       "      <td>[{'time': 1718980078000, 'symbol': 'NEARUSDT',...</td>\n",
       "    </tr>\n",
       "    <tr>\n",
       "      <th>2</th>\n",
       "      <td>3923766029921022977</td>\n",
       "      <td>[{'time': 1718677164000, 'symbol': 'ETHUSDT', ...</td>\n",
       "    </tr>\n",
       "    <tr>\n",
       "      <th>3</th>\n",
       "      <td>3994879592543698688</td>\n",
       "      <td>[{'time': 1718678214000, 'symbol': 'ETHUSDT', ...</td>\n",
       "    </tr>\n",
       "    <tr>\n",
       "      <th>4</th>\n",
       "      <td>3926423286576838657</td>\n",
       "      <td>[{'time': 1718979615000, 'symbol': 'ETHUSDT', ...</td>\n",
       "    </tr>\n",
       "  </tbody>\n",
       "</table>\n",
       "</div>"
      ],
      "text/plain": [
       "              Port_IDs                                      Trade_History\n",
       "0  3925368433214965504  [{'time': 1718899656000, 'symbol': 'SOLUSDT', ...\n",
       "1  4002413037164645377  [{'time': 1718980078000, 'symbol': 'NEARUSDT',...\n",
       "2  3923766029921022977  [{'time': 1718677164000, 'symbol': 'ETHUSDT', ...\n",
       "3  3994879592543698688  [{'time': 1718678214000, 'symbol': 'ETHUSDT', ...\n",
       "4  3926423286576838657  [{'time': 1718979615000, 'symbol': 'ETHUSDT', ..."
      ]
     },
     "execution_count": 51,
     "metadata": {},
     "output_type": "execute_result"
    }
   ],
   "source": [
    "df.head()"
   ]
  },
  {
   "cell_type": "code",
   "execution_count": 52,
   "metadata": {},
   "outputs": [],
   "source": [
    "# Explode the JSON list into individual rows\n",
    "trade_df = df.explode(\"Trade_History\").reset_index(drop=True)"
   ]
  },
  {
   "cell_type": "code",
   "execution_count": 53,
   "metadata": {},
   "outputs": [
    {
     "data": {
      "text/html": [
       "<div>\n",
       "<style scoped>\n",
       "    .dataframe tbody tr th:only-of-type {\n",
       "        vertical-align: middle;\n",
       "    }\n",
       "\n",
       "    .dataframe tbody tr th {\n",
       "        vertical-align: top;\n",
       "    }\n",
       "\n",
       "    .dataframe thead th {\n",
       "        text-align: right;\n",
       "    }\n",
       "</style>\n",
       "<table border=\"1\" class=\"dataframe\">\n",
       "  <thead>\n",
       "    <tr style=\"text-align: right;\">\n",
       "      <th></th>\n",
       "      <th>Port_IDs</th>\n",
       "      <th>Trade_History</th>\n",
       "    </tr>\n",
       "  </thead>\n",
       "  <tbody>\n",
       "    <tr>\n",
       "      <th>0</th>\n",
       "      <td>3925368433214965504</td>\n",
       "      <td>{'time': 1718899656000, 'symbol': 'SOLUSDT', '...</td>\n",
       "    </tr>\n",
       "    <tr>\n",
       "      <th>1</th>\n",
       "      <td>3925368433214965504</td>\n",
       "      <td>{'time': 1718899618000, 'symbol': 'DOGEUSDT', ...</td>\n",
       "    </tr>\n",
       "    <tr>\n",
       "      <th>2</th>\n",
       "      <td>3925368433214965504</td>\n",
       "      <td>{'time': 1718899618000, 'symbol': 'DOGEUSDT', ...</td>\n",
       "    </tr>\n",
       "    <tr>\n",
       "      <th>3</th>\n",
       "      <td>3925368433214965504</td>\n",
       "      <td>{'time': 1718899616000, 'symbol': 'DOGEUSDT', ...</td>\n",
       "    </tr>\n",
       "    <tr>\n",
       "      <th>4</th>\n",
       "      <td>3925368433214965504</td>\n",
       "      <td>{'time': 1718899616000, 'symbol': 'DOGEUSDT', ...</td>\n",
       "    </tr>\n",
       "  </tbody>\n",
       "</table>\n",
       "</div>"
      ],
      "text/plain": [
       "              Port_IDs                                      Trade_History\n",
       "0  3925368433214965504  {'time': 1718899656000, 'symbol': 'SOLUSDT', '...\n",
       "1  3925368433214965504  {'time': 1718899618000, 'symbol': 'DOGEUSDT', ...\n",
       "2  3925368433214965504  {'time': 1718899618000, 'symbol': 'DOGEUSDT', ...\n",
       "3  3925368433214965504  {'time': 1718899616000, 'symbol': 'DOGEUSDT', ...\n",
       "4  3925368433214965504  {'time': 1718899616000, 'symbol': 'DOGEUSDT', ..."
      ]
     },
     "execution_count": 53,
     "metadata": {},
     "output_type": "execute_result"
    }
   ],
   "source": [
    "trade_df.head()"
   ]
  },
  {
   "cell_type": "code",
   "execution_count": 54,
   "metadata": {},
   "outputs": [],
   "source": [
    "# Convert JSON dictionaries to columns\n",
    "trade_df = pd.concat(\n",
    "    [\n",
    "        trade_df.drop([\"Trade_History\"], axis=1),\n",
    "        trade_df[\"Trade_History\"].apply(pd.Series),\n",
    "    ],\n",
    "    axis=1,\n",
    ")"
   ]
  },
  {
   "cell_type": "code",
   "execution_count": 55,
   "metadata": {},
   "outputs": [
    {
     "data": {
      "text/html": [
       "<div>\n",
       "<style scoped>\n",
       "    .dataframe tbody tr th:only-of-type {\n",
       "        vertical-align: middle;\n",
       "    }\n",
       "\n",
       "    .dataframe tbody tr th {\n",
       "        vertical-align: top;\n",
       "    }\n",
       "\n",
       "    .dataframe thead th {\n",
       "        text-align: right;\n",
       "    }\n",
       "</style>\n",
       "<table border=\"1\" class=\"dataframe\">\n",
       "  <thead>\n",
       "    <tr style=\"text-align: right;\">\n",
       "      <th></th>\n",
       "      <th>Port_IDs</th>\n",
       "      <th>time</th>\n",
       "      <th>symbol</th>\n",
       "      <th>side</th>\n",
       "      <th>price</th>\n",
       "      <th>fee</th>\n",
       "      <th>feeAsset</th>\n",
       "      <th>quantity</th>\n",
       "      <th>quantityAsset</th>\n",
       "      <th>realizedProfit</th>\n",
       "      <th>realizedProfitAsset</th>\n",
       "      <th>baseAsset</th>\n",
       "      <th>qty</th>\n",
       "      <th>positionSide</th>\n",
       "      <th>activeBuy</th>\n",
       "    </tr>\n",
       "  </thead>\n",
       "  <tbody>\n",
       "    <tr>\n",
       "      <th>0</th>\n",
       "      <td>3925368433214965504</td>\n",
       "      <td>1718899656000</td>\n",
       "      <td>SOLUSDT</td>\n",
       "      <td>BUY</td>\n",
       "      <td>132.53700</td>\n",
       "      <td>-0.994027</td>\n",
       "      <td>USDT</td>\n",
       "      <td>1988.05500</td>\n",
       "      <td>USDT</td>\n",
       "      <td>0.0</td>\n",
       "      <td>USDT</td>\n",
       "      <td>SOL</td>\n",
       "      <td>15.0</td>\n",
       "      <td>LONG</td>\n",
       "      <td>True</td>\n",
       "    </tr>\n",
       "    <tr>\n",
       "      <th>1</th>\n",
       "      <td>3925368433214965504</td>\n",
       "      <td>1718899618000</td>\n",
       "      <td>DOGEUSDT</td>\n",
       "      <td>BUY</td>\n",
       "      <td>0.12182</td>\n",
       "      <td>-0.279796</td>\n",
       "      <td>USDT</td>\n",
       "      <td>1398.98088</td>\n",
       "      <td>USDT</td>\n",
       "      <td>0.0</td>\n",
       "      <td>USDT</td>\n",
       "      <td>DOGE</td>\n",
       "      <td>11484.0</td>\n",
       "      <td>LONG</td>\n",
       "      <td>False</td>\n",
       "    </tr>\n",
       "    <tr>\n",
       "      <th>2</th>\n",
       "      <td>3925368433214965504</td>\n",
       "      <td>1718899618000</td>\n",
       "      <td>DOGEUSDT</td>\n",
       "      <td>BUY</td>\n",
       "      <td>0.12182</td>\n",
       "      <td>-0.039494</td>\n",
       "      <td>USDT</td>\n",
       "      <td>197.47022</td>\n",
       "      <td>USDT</td>\n",
       "      <td>0.0</td>\n",
       "      <td>USDT</td>\n",
       "      <td>DOGE</td>\n",
       "      <td>1621.0</td>\n",
       "      <td>LONG</td>\n",
       "      <td>False</td>\n",
       "    </tr>\n",
       "    <tr>\n",
       "      <th>3</th>\n",
       "      <td>3925368433214965504</td>\n",
       "      <td>1718899616000</td>\n",
       "      <td>DOGEUSDT</td>\n",
       "      <td>BUY</td>\n",
       "      <td>0.12182</td>\n",
       "      <td>-0.008284</td>\n",
       "      <td>USDT</td>\n",
       "      <td>16.56752</td>\n",
       "      <td>USDT</td>\n",
       "      <td>0.0</td>\n",
       "      <td>USDT</td>\n",
       "      <td>DOGE</td>\n",
       "      <td>136.0</td>\n",
       "      <td>LONG</td>\n",
       "      <td>True</td>\n",
       "    </tr>\n",
       "    <tr>\n",
       "      <th>4</th>\n",
       "      <td>3925368433214965504</td>\n",
       "      <td>1718899616000</td>\n",
       "      <td>DOGEUSDT</td>\n",
       "      <td>BUY</td>\n",
       "      <td>0.12182</td>\n",
       "      <td>-0.046109</td>\n",
       "      <td>USDT</td>\n",
       "      <td>92.21774</td>\n",
       "      <td>USDT</td>\n",
       "      <td>0.0</td>\n",
       "      <td>USDT</td>\n",
       "      <td>DOGE</td>\n",
       "      <td>757.0</td>\n",
       "      <td>LONG</td>\n",
       "      <td>True</td>\n",
       "    </tr>\n",
       "  </tbody>\n",
       "</table>\n",
       "</div>"
      ],
      "text/plain": [
       "              Port_IDs           time    symbol side      price       fee  \\\n",
       "0  3925368433214965504  1718899656000   SOLUSDT  BUY  132.53700 -0.994027   \n",
       "1  3925368433214965504  1718899618000  DOGEUSDT  BUY    0.12182 -0.279796   \n",
       "2  3925368433214965504  1718899618000  DOGEUSDT  BUY    0.12182 -0.039494   \n",
       "3  3925368433214965504  1718899616000  DOGEUSDT  BUY    0.12182 -0.008284   \n",
       "4  3925368433214965504  1718899616000  DOGEUSDT  BUY    0.12182 -0.046109   \n",
       "\n",
       "  feeAsset    quantity quantityAsset  realizedProfit realizedProfitAsset  \\\n",
       "0     USDT  1988.05500          USDT             0.0                USDT   \n",
       "1     USDT  1398.98088          USDT             0.0                USDT   \n",
       "2     USDT   197.47022          USDT             0.0                USDT   \n",
       "3     USDT    16.56752          USDT             0.0                USDT   \n",
       "4     USDT    92.21774          USDT             0.0                USDT   \n",
       "\n",
       "  baseAsset      qty positionSide  activeBuy  \n",
       "0       SOL     15.0         LONG       True  \n",
       "1      DOGE  11484.0         LONG      False  \n",
       "2      DOGE   1621.0         LONG      False  \n",
       "3      DOGE    136.0         LONG       True  \n",
       "4      DOGE    757.0         LONG       True  "
      ]
     },
     "execution_count": 55,
     "metadata": {},
     "output_type": "execute_result"
    }
   ],
   "source": [
    "trade_df.head()"
   ]
  },
  {
   "cell_type": "markdown",
   "metadata": {},
   "source": [
    "#### 2. Data Cleaning\n"
   ]
  },
  {
   "cell_type": "code",
   "execution_count": 56,
   "metadata": {},
   "outputs": [
    {
     "data": {
      "text/plain": [
       "Port_IDs               0\n",
       "time                   0\n",
       "symbol                 0\n",
       "side                   0\n",
       "price                  0\n",
       "fee                    0\n",
       "feeAsset               0\n",
       "quantity               0\n",
       "quantityAsset          0\n",
       "realizedProfit         0\n",
       "realizedProfitAsset    0\n",
       "baseAsset              0\n",
       "qty                    0\n",
       "positionSide           0\n",
       "activeBuy              0\n",
       "dtype: int64"
      ]
     },
     "execution_count": 56,
     "metadata": {},
     "output_type": "execute_result"
    }
   ],
   "source": [
    "trade_df.isnull().sum()"
   ]
  },
  {
   "cell_type": "code",
   "execution_count": 57,
   "metadata": {},
   "outputs": [],
   "source": [
    "# Convert timestamp\n",
    "trade_df[\"time\"] = pd.to_datetime(trade_df[\"time\"])"
   ]
  },
  {
   "cell_type": "code",
   "execution_count": null,
   "metadata": {},
   "outputs": [],
   "source": []
  },
  {
   "cell_type": "markdown",
   "metadata": {},
   "source": [
    "#### 3. Position Classification\n"
   ]
  },
  {
   "cell_type": "code",
   "execution_count": 58,
   "metadata": {},
   "outputs": [],
   "source": [
    "conditions = [\n",
    "    (trade_df[\"side\"] == \"BUY\") & (trade_df[\"positionSide\"] == \"LONG\"),\n",
    "    (trade_df[\"side\"] == \"SELL\") & (trade_df[\"positionSide\"] == \"LONG\"),\n",
    "    (trade_df[\"side\"] == \"SELL\") & (trade_df[\"positionSide\"] == \"SHORT\"),\n",
    "    (trade_df[\"side\"] == \"BUY\") & (trade_df[\"positionSide\"] == \"SHORT\"),\n",
    "]\n",
    "choices = [\"long_open\", \"long_close\", \"short_open\", \"short_close\"]\n",
    "trade_df[\"position_type\"] = np.select(conditions, choices, default=None)"
   ]
  },
  {
   "cell_type": "code",
   "execution_count": 59,
   "metadata": {},
   "outputs": [],
   "source": [
    "# Filter valid positions\n",
    "trade_df = trade_df[trade_df[\"position_type\"].notna()]"
   ]
  },
  {
   "cell_type": "code",
   "execution_count": 60,
   "metadata": {},
   "outputs": [
    {
     "data": {
      "text/plain": [
       "Index(['Port_IDs', 'time', 'symbol', 'side', 'price', 'fee', 'feeAsset',\n",
       "       'quantity', 'quantityAsset', 'realizedProfit', 'realizedProfitAsset',\n",
       "       'baseAsset', 'qty', 'positionSide', 'activeBuy', 'position_type'],\n",
       "      dtype='object')"
      ]
     },
     "execution_count": 60,
     "metadata": {},
     "output_type": "execute_result"
    }
   ],
   "source": [
    "trade_df.columns"
   ]
  },
  {
   "cell_type": "code",
   "execution_count": 61,
   "metadata": {},
   "outputs": [
    {
     "data": {
      "text/html": [
       "<div>\n",
       "<style scoped>\n",
       "    .dataframe tbody tr th:only-of-type {\n",
       "        vertical-align: middle;\n",
       "    }\n",
       "\n",
       "    .dataframe tbody tr th {\n",
       "        vertical-align: top;\n",
       "    }\n",
       "\n",
       "    .dataframe thead th {\n",
       "        text-align: right;\n",
       "    }\n",
       "</style>\n",
       "<table border=\"1\" class=\"dataframe\">\n",
       "  <thead>\n",
       "    <tr style=\"text-align: right;\">\n",
       "      <th></th>\n",
       "      <th>Port_IDs</th>\n",
       "      <th>time</th>\n",
       "      <th>symbol</th>\n",
       "      <th>side</th>\n",
       "      <th>price</th>\n",
       "      <th>fee</th>\n",
       "      <th>feeAsset</th>\n",
       "      <th>quantity</th>\n",
       "      <th>quantityAsset</th>\n",
       "      <th>realizedProfit</th>\n",
       "      <th>realizedProfitAsset</th>\n",
       "      <th>baseAsset</th>\n",
       "      <th>qty</th>\n",
       "      <th>positionSide</th>\n",
       "      <th>activeBuy</th>\n",
       "      <th>position_type</th>\n",
       "    </tr>\n",
       "  </thead>\n",
       "  <tbody>\n",
       "    <tr>\n",
       "      <th>0</th>\n",
       "      <td>3925368433214965504</td>\n",
       "      <td>1970-01-01 00:28:38.899656</td>\n",
       "      <td>SOLUSDT</td>\n",
       "      <td>BUY</td>\n",
       "      <td>132.53700</td>\n",
       "      <td>-0.994027</td>\n",
       "      <td>USDT</td>\n",
       "      <td>1988.05500</td>\n",
       "      <td>USDT</td>\n",
       "      <td>0.0</td>\n",
       "      <td>USDT</td>\n",
       "      <td>SOL</td>\n",
       "      <td>15.0</td>\n",
       "      <td>LONG</td>\n",
       "      <td>True</td>\n",
       "      <td>long_open</td>\n",
       "    </tr>\n",
       "    <tr>\n",
       "      <th>1</th>\n",
       "      <td>3925368433214965504</td>\n",
       "      <td>1970-01-01 00:28:38.899618</td>\n",
       "      <td>DOGEUSDT</td>\n",
       "      <td>BUY</td>\n",
       "      <td>0.12182</td>\n",
       "      <td>-0.279796</td>\n",
       "      <td>USDT</td>\n",
       "      <td>1398.98088</td>\n",
       "      <td>USDT</td>\n",
       "      <td>0.0</td>\n",
       "      <td>USDT</td>\n",
       "      <td>DOGE</td>\n",
       "      <td>11484.0</td>\n",
       "      <td>LONG</td>\n",
       "      <td>False</td>\n",
       "      <td>long_open</td>\n",
       "    </tr>\n",
       "    <tr>\n",
       "      <th>2</th>\n",
       "      <td>3925368433214965504</td>\n",
       "      <td>1970-01-01 00:28:38.899618</td>\n",
       "      <td>DOGEUSDT</td>\n",
       "      <td>BUY</td>\n",
       "      <td>0.12182</td>\n",
       "      <td>-0.039494</td>\n",
       "      <td>USDT</td>\n",
       "      <td>197.47022</td>\n",
       "      <td>USDT</td>\n",
       "      <td>0.0</td>\n",
       "      <td>USDT</td>\n",
       "      <td>DOGE</td>\n",
       "      <td>1621.0</td>\n",
       "      <td>LONG</td>\n",
       "      <td>False</td>\n",
       "      <td>long_open</td>\n",
       "    </tr>\n",
       "    <tr>\n",
       "      <th>3</th>\n",
       "      <td>3925368433214965504</td>\n",
       "      <td>1970-01-01 00:28:38.899616</td>\n",
       "      <td>DOGEUSDT</td>\n",
       "      <td>BUY</td>\n",
       "      <td>0.12182</td>\n",
       "      <td>-0.008284</td>\n",
       "      <td>USDT</td>\n",
       "      <td>16.56752</td>\n",
       "      <td>USDT</td>\n",
       "      <td>0.0</td>\n",
       "      <td>USDT</td>\n",
       "      <td>DOGE</td>\n",
       "      <td>136.0</td>\n",
       "      <td>LONG</td>\n",
       "      <td>True</td>\n",
       "      <td>long_open</td>\n",
       "    </tr>\n",
       "    <tr>\n",
       "      <th>4</th>\n",
       "      <td>3925368433214965504</td>\n",
       "      <td>1970-01-01 00:28:38.899616</td>\n",
       "      <td>DOGEUSDT</td>\n",
       "      <td>BUY</td>\n",
       "      <td>0.12182</td>\n",
       "      <td>-0.046109</td>\n",
       "      <td>USDT</td>\n",
       "      <td>92.21774</td>\n",
       "      <td>USDT</td>\n",
       "      <td>0.0</td>\n",
       "      <td>USDT</td>\n",
       "      <td>DOGE</td>\n",
       "      <td>757.0</td>\n",
       "      <td>LONG</td>\n",
       "      <td>True</td>\n",
       "      <td>long_open</td>\n",
       "    </tr>\n",
       "  </tbody>\n",
       "</table>\n",
       "</div>"
      ],
      "text/plain": [
       "              Port_IDs                       time    symbol side      price  \\\n",
       "0  3925368433214965504 1970-01-01 00:28:38.899656   SOLUSDT  BUY  132.53700   \n",
       "1  3925368433214965504 1970-01-01 00:28:38.899618  DOGEUSDT  BUY    0.12182   \n",
       "2  3925368433214965504 1970-01-01 00:28:38.899618  DOGEUSDT  BUY    0.12182   \n",
       "3  3925368433214965504 1970-01-01 00:28:38.899616  DOGEUSDT  BUY    0.12182   \n",
       "4  3925368433214965504 1970-01-01 00:28:38.899616  DOGEUSDT  BUY    0.12182   \n",
       "\n",
       "        fee feeAsset    quantity quantityAsset  realizedProfit  \\\n",
       "0 -0.994027     USDT  1988.05500          USDT             0.0   \n",
       "1 -0.279796     USDT  1398.98088          USDT             0.0   \n",
       "2 -0.039494     USDT   197.47022          USDT             0.0   \n",
       "3 -0.008284     USDT    16.56752          USDT             0.0   \n",
       "4 -0.046109     USDT    92.21774          USDT             0.0   \n",
       "\n",
       "  realizedProfitAsset baseAsset      qty positionSide  activeBuy position_type  \n",
       "0                USDT       SOL     15.0         LONG       True     long_open  \n",
       "1                USDT      DOGE  11484.0         LONG      False     long_open  \n",
       "2                USDT      DOGE   1621.0         LONG      False     long_open  \n",
       "3                USDT      DOGE    136.0         LONG       True     long_open  \n",
       "4                USDT      DOGE    757.0         LONG       True     long_open  "
      ]
     },
     "execution_count": 61,
     "metadata": {},
     "output_type": "execute_result"
    }
   ],
   "source": [
    "trade_df.head()"
   ]
  },
  {
   "cell_type": "markdown",
   "metadata": {},
   "source": [
    "#### 4. Metric Calculation\n"
   ]
  },
  {
   "cell_type": "code",
   "execution_count": 62,
   "metadata": {},
   "outputs": [],
   "source": [
    "from collections import defaultdict, deque"
   ]
  },
  {
   "cell_type": "code",
   "execution_count": 63,
   "metadata": {},
   "outputs": [],
   "source": [
    "def calculate_metrics(group):\n",
    "    queues = defaultdict(deque)\n",
    "    realized_profits = []\n",
    "    open_quantities = []\n",
    "    cumulative_pnl = []\n",
    "    current_cumulative = 0\n",
    "\n",
    "    for _, trade in group.sort_values(\"time\").iterrows():\n",
    "        pos_type = trade[\"position_type\"]\n",
    "        asset = trade[\"baseAsset\"]\n",
    "\n",
    "        if \"_open\" in pos_type:\n",
    "            # Add to queue\n",
    "            key = (asset, pos_type.split(\"_\")[0])\n",
    "            queues[key].append({\"quantity\": trade[\"quantity\"], \"time\": trade[\"time\"]})\n",
    "        else:\n",
    "            # Match with earliest open position\n",
    "            key = (asset, pos_type.split(\"_\")[0])\n",
    "            if queues[key]:\n",
    "                open_trade = queues[key].popleft()\n",
    "                realized_profits.append(trade[\"realizedProfit\"])\n",
    "                open_quantities.append(open_trade[\"quantity\"])\n",
    "\n",
    "                # Track cumulative PnL for MDD\n",
    "                current_cumulative += trade[\"realizedProfit\"]\n",
    "                cumulative_pnl.append(current_cumulative)\n",
    "\n",
    "    # Calculate metrics\n",
    "    total_pos = len(realized_profits)\n",
    "    win_pos = sum(p > 0 for p in realized_profits)\n",
    "\n",
    "    return pd.Series(\n",
    "        {\n",
    "            \"ROI\": (\n",
    "                (sum(realized_profits) / sum(open_quantities) * 100)\n",
    "                if open_quantities\n",
    "                else 0\n",
    "            ),\n",
    "            \"PnL\": sum(realized_profits),\n",
    "            \"Sharpe Ratio\": (\n",
    "                (np.mean(realized_profits) / np.std(realized_profits))\n",
    "                if len(realized_profits) > 1\n",
    "                else 0\n",
    "            ),\n",
    "            \"MDD\": calculate_mdd(cumulative_pnl),\n",
    "            \"Win Rate\": win_pos / total_pos if total_pos else 0,\n",
    "            \"Win Positions\": win_pos,\n",
    "            \"Total Positions\": total_pos,\n",
    "        }\n",
    "    )"
   ]
  },
  {
   "cell_type": "code",
   "execution_count": 64,
   "metadata": {},
   "outputs": [],
   "source": [
    "def calculate_mdd(cumulative_pnl):\n",
    "    if not cumulative_pnl:\n",
    "        return 0\n",
    "    running_max = np.maximum.accumulate(cumulative_pnl)\n",
    "    drawdowns = running_max - cumulative_pnl\n",
    "    return np.max(drawdowns) if len(drawdowns) > 0 else 0"
   ]
  },
  {
   "cell_type": "code",
   "execution_count": 65,
   "metadata": {},
   "outputs": [
    {
     "name": "stderr",
     "output_type": "stream",
     "text": [
      "C:\\Users\\ANAS KHAN\\AppData\\Local\\Temp\\ipykernel_12564\\693745166.py:2: DeprecationWarning: DataFrameGroupBy.apply operated on the grouping columns. This behavior is deprecated, and in a future version of pandas the grouping columns will be excluded from the operation. Either pass `include_groups=False` to exclude the groupings or explicitly select the grouping columns after groupby to silence this warning.\n",
      "  metrics_df = trade_df.groupby(\"Port_IDs\").apply(calculate_metrics).reset_index()\n"
     ]
    }
   ],
   "source": [
    "# Calculate metrics per Port_ID\n",
    "metrics_df = trade_df.groupby(\"Port_IDs\").apply(calculate_metrics).reset_index()"
   ]
  },
  {
   "cell_type": "markdown",
   "metadata": {},
   "source": [
    "#### 5. Ranking System\n"
   ]
  },
  {
   "cell_type": "code",
   "execution_count": 66,
   "metadata": {},
   "outputs": [],
   "source": [
    "# Normalization\n",
    "metrics = [\"ROI\", \"PnL\", \"Sharpe Ratio\", \"MDD\", \"Win Rate\"]\n",
    "weights = {\"ROI\": 0.25, \"PnL\": 0.25, \"Sharpe Ratio\": 0.2, \"MDD\": 0.15, \"Win Rate\": 0.15}\n",
    "\n",
    "for metric in metrics:\n",
    "    if metric != \"MDD\":\n",
    "        metrics_df[f\"{metric}_norm\"] = (\n",
    "            metrics_df[metric] - metrics_df[metric].min()\n",
    "        ) / (metrics_df[metric].max() - metrics_df[metric].min())\n",
    "    else:\n",
    "        # Invert MDD since lower is better\n",
    "        metrics_df[f\"{metric}_norm\"] = 1 - (\n",
    "            (metrics_df[metric] - metrics_df[metric].min())\n",
    "            / (metrics_df[metric].max() - metrics_df[metric].min())\n",
    "        )"
   ]
  },
  {
   "cell_type": "code",
   "execution_count": 67,
   "metadata": {},
   "outputs": [],
   "source": [
    "# Calculate composite score\n",
    "metrics_df[\"Composite_Score\"] = sum(\n",
    "    metrics_df[f\"{metric}_norm\"] * weights[metric] for metric in weights\n",
    ")"
   ]
  },
  {
   "cell_type": "markdown",
   "metadata": {},
   "source": [
    "# 6. Final Output\n"
   ]
  },
  {
   "cell_type": "code",
   "execution_count": 68,
   "metadata": {},
   "outputs": [],
   "source": [
    "# Get top 20 accounts\n",
    "top_20 = metrics_df.sort_values(\"Composite_Score\", ascending=False).head(20)\n",
    "\n",
    "# Save results\n",
    "metrics_df.to_csv(\"all_account_metrics.csv\", index=False)\n",
    "top_20[[\"Port_IDs\", \"Composite_Score\"]].to_csv(\"top_20_accounts.csv\", index=False)"
   ]
  },
  {
   "cell_type": "code",
   "execution_count": null,
   "metadata": {},
   "outputs": [],
   "source": []
  },
  {
   "cell_type": "code",
   "execution_count": null,
   "metadata": {},
   "outputs": [],
   "source": []
  },
  {
   "cell_type": "code",
   "execution_count": null,
   "metadata": {},
   "outputs": [],
   "source": []
  }
 ],
 "metadata": {
  "kernelspec": {
   "display_name": "base",
   "language": "python",
   "name": "python3"
  },
  "language_info": {
   "codemirror_mode": {
    "name": "ipython",
    "version": 3
   },
   "file_extension": ".py",
   "mimetype": "text/x-python",
   "name": "python",
   "nbconvert_exporter": "python",
   "pygments_lexer": "ipython3",
   "version": "3.12.4"
  }
 },
 "nbformat": 4,
 "nbformat_minor": 2
}
