{
 "cells": [
  {
   "cell_type": "code",
   "execution_count": 10,
   "metadata": {},
   "outputs": [],
   "source": [
    "import numpy as np\n",
    "import pandas as pd\n",
    "import json\n",
    "from collections import defaultdict, deque"
   ]
  },
  {
   "cell_type": "markdown",
   "metadata": {},
   "source": [
    "## 1. Data Loading & Preprocessing\n"
   ]
  },
  {
   "cell_type": "code",
   "execution_count": null,
   "metadata": {},
   "outputs": [],
   "source": [
    "def load_data(file_path):\n",
    "    df = pd.read_csv(file_path, converters={\"Trade_History\": json.loads})\n",
    "    trade_df = df.explode(\"Trade_History\").reset_index(drop=True)\n",
    "    trade_df = pd.concat(\n",
    "        [trade_df[\"Trade_History\"].apply(pd.Series), trade_df[\"Port_IDs\"]], axis=1\n",
    "    )\n",
    "\n",
    "    # Convert numeric fields\n",
    "    numeric_cols = [\"realizedProfit\", \"quantity\", \"price\"]\n",
    "    trade_df[numeric_cols] = trade_df[numeric_cols].apply(\n",
    "        pd.to_numeric, errors=\"coerce\"\n",
    "    )\n",
    "\n",
    "    # Filter valid trades\n",
    "    trade_df = trade_df.dropna(\n",
    "        subset=[\"side\", \"positionSide\", \"quantity\", \"realizedProfit\"]\n",
    "    )\n",
    "    trade_df[\"timestamp\"] = pd.to_datetime(trade_df[\"time\"], errors=\"coerce\")\n",
    "    return trade_df.dropna(subset=[\"times\"])"
   ]
  },
  {
   "cell_type": "markdown",
   "metadata": {},
   "source": [
    "## 2. Position Classification\n"
   ]
  },
  {
   "cell_type": "code",
   "execution_count": 29,
   "metadata": {},
   "outputs": [],
   "source": [
    "def classify_positions(df):\n",
    "    conditions = [\n",
    "        (df[\"side\"] == \"BUY\") & (df[\"positionSide\"] == \"LONG\"),\n",
    "        (df[\"side\"] == \"SELL\") & (df[\"positionSide\"] == \"LONG\"),\n",
    "        (df[\"side\"] == \"SELL\") & (df[\"positionSide\"] == \"SHORT\"),\n",
    "        (df[\"side\"] == \"BUY\") & (df[\"positionSide\"] == \"SHORT\"),\n",
    "    ]\n",
    "    choices = [\"long_open\", \"long_close\", \"short_open\", \"short_close\"]\n",
    "    df[\"position_type\"] = np.select(conditions, choices, default=None)\n",
    "    return df.dropna(subset=[\"position_type\"])"
   ]
  },
  {
   "cell_type": "markdown",
   "metadata": {},
   "source": [
    "## 3. Portfolio Analysis Engine\n"
   ]
  },
  {
   "cell_type": "code",
   "execution_count": 30,
   "metadata": {},
   "outputs": [],
   "source": [
    "class PortfolioAnalyzer:\n",
    "    def _init_(self):\n",
    "        self.queues = {\"long\": defaultdict(deque), \"short\": defaultdict(deque)}\n",
    "        self.metrics = {\n",
    "            \"realized_profits\": [],\n",
    "            \"invested_capital\": [],\n",
    "            \"cumulative_pnl\": [],\n",
    "            \"returns\": [],\n",
    "        }\n",
    "\n",
    "    def process_trade(self, trade):\n",
    "        asset = trade[\"asset\"]\n",
    "        pos_type = trade[\"position_type\"]\n",
    "        direction, action = pos_type.split(\"_\")\n",
    "\n",
    "        if action == \"open\":\n",
    "            self.queues[direction][asset].append(\n",
    "                {\n",
    "                    \"quantity\": trade[\"quantity\"],\n",
    "                    \"price\": trade[\"price\"],\n",
    "                    \"timestamp\": trade[\"timestamp\"],\n",
    "                }\n",
    "            )\n",
    "        else:\n",
    "            if self.queues[direction][asset]:\n",
    "                open_trade = self.queues[direction][asset].popleft()\n",
    "                profit = trade[\"realizedProfit\"]\n",
    "\n",
    "                # Calculate metrics\n",
    "                self.metrics[\"realized_profits\"].append(profit)\n",
    "                self.metrics[\"invested_capital\"].append(open_trade[\"quantity\"])\n",
    "                self.metrics[\"returns\"].append(profit / open_trade[\"quantity\"])\n",
    "\n",
    "                # Update cumulative PnL\n",
    "                current_pnl = (\n",
    "                    self.metrics[\"cumulative_pnl\"][-1]\n",
    "                    if self.metrics[\"cumulative_pnl\"]\n",
    "                    else 0\n",
    "                )\n",
    "                self.metrics[\"cumulative_pnl\"].append(current_pnl + profit)\n",
    "\n",
    "    def get_metrics(self):\n",
    "        if not self.metrics[\"realized_profits\"]:\n",
    "            return None\n",
    "\n",
    "        total_pos = len(self.metrics[\"realized_profits\"])\n",
    "        win_pos = sum(p > 0 for p in self.metrics[\"realized_profits\"])\n",
    "\n",
    "        # Sharpe Ratio calculation\n",
    "        returns = self.metrics[\"returns\"]\n",
    "        sharpe = np.mean(returns) / np.std(returns) if len(returns) > 1 else 0\n",
    "\n",
    "        # MDD calculation\n",
    "        cumulative_pnl = self.metrics[\"cumulative_pnl\"]\n",
    "        running_max = np.maximum.accumulate(cumulative_pnl)\n",
    "        drawdowns = running_max - cumulative_pnl\n",
    "        mdd = np.max(drawdowns) if len(drawdowns) > 0 else 0\n",
    "\n",
    "        return {\n",
    "            \"ROI\": np.sum(self.metrics[\"realized_profits\"])\n",
    "            / np.sum(self.metrics[\"invested_capital\"])\n",
    "            * 100,\n",
    "            \"PnL\": np.sum(self.metrics[\"realized_profits\"]),\n",
    "            \"Sharpe\": sharpe,\n",
    "            \"MDD\": mdd,\n",
    "            \"WinRate\": win_pos / total_pos,\n",
    "            \"WinPositions\": win_pos,\n",
    "            \"TotalPositions\": total_pos,\n",
    "        }"
   ]
  },
  {
   "cell_type": "markdown",
   "metadata": {},
   "source": [
    "## 4. Main Processing Pipeline\n"
   ]
  },
  {
   "cell_type": "code",
   "execution_count": 31,
   "metadata": {},
   "outputs": [],
   "source": [
    "def analyze_portfolios(df):\n",
    "    results = []\n",
    "    for port_id, group in df.groupby(\"Port_ID\"):\n",
    "        analyzer = PortfolioAnalyzer()\n",
    "        for _, trade in group.sort_values(\"timestamp\").iterrows():\n",
    "            analyzer.process_trade(trade)\n",
    "\n",
    "        metrics = analyzer.get_metrics()\n",
    "        if metrics:\n",
    "            results.append({\"Port_ID\": port_id, **metrics})\n",
    "\n",
    "    return pd.DataFrame(results)"
   ]
  },
  {
   "cell_type": "markdown",
   "metadata": {},
   "source": [
    "## 5. Ranking System\n"
   ]
  },
  {
   "cell_type": "code",
   "execution_count": 32,
   "metadata": {},
   "outputs": [],
   "source": [
    "def rank_portfolios(metrics_df):\n",
    "    # Normalization\n",
    "    metrics = [\"ROI\", \"PnL\", \"Sharpe\", \"MDD\", \"WinRate\"]\n",
    "    weights = [0.25, 0.25, 0.2, 0.15, 0.15]\n",
    "\n",
    "    normalized = metrics_df[metrics].apply(\n",
    "        lambda x: (x - x.min()) / (x.max() - x.min())\n",
    "    )\n",
    "    normalized[\"MDD\"] = 1 - normalized[\"MDD\"]  # Invert MDD\n",
    "\n",
    "    metrics_df[\"Score\"] = (normalized * weights).sum(axis=1)\n",
    "    return metrics_df.sort_values(\"Score\", ascending=False)"
   ]
  },
  {
   "cell_type": "code",
   "execution_count": null,
   "metadata": {},
   "outputs": [],
   "source": [
    "# Execution\n",
    "if __name__ == \"__main__\":\n",
    "    # Load and process data\n",
    "    trade_data = load_data(\"TRADES_CopyTr_90D_ROI.csv\")\n",
    "    classified_data = classify_positions(trade_data)\n",
    "\n",
    "    # Analyze portfolios\n",
    "    portfolio_metrics = analyze_portfolios(classified_data)\n",
    "\n",
    "    # Rank and get top 20\n",
    "    ranked_portfolios = rank_portfolios(portfolio_metrics)\n",
    "    top_20 = ranked_portfolios.head(20)\n",
    "\n",
    "    # Save results\n",
    "    portfolio_metrics.to_csv(\"all_portfolio_metrics.csv\", index=False)\n",
    "    top_20.to_csv(\"top_20_portfolios.csv\", index=False)"
   ]
  },
  {
   "cell_type": "code",
   "execution_count": null,
   "metadata": {},
   "outputs": [],
   "source": []
  },
  {
   "cell_type": "code",
   "execution_count": null,
   "metadata": {},
   "outputs": [],
   "source": []
  }
 ],
 "metadata": {
  "kernelspec": {
   "display_name": "base",
   "language": "python",
   "name": "python3"
  },
  "language_info": {
   "codemirror_mode": {
    "name": "ipython",
    "version": 3
   },
   "file_extension": ".py",
   "mimetype": "text/x-python",
   "name": "python",
   "nbconvert_exporter": "python",
   "pygments_lexer": "ipython3",
   "version": "3.12.4"
  }
 },
 "nbformat": 4,
 "nbformat_minor": 2
}
